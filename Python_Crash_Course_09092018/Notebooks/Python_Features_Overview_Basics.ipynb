{
  "nbformat": 4,
  "nbformat_minor": 0,
  "metadata": {
    "colab": {
      "name": "Python Features Overview Basics.ipynb",
      "version": "0.3.2",
      "provenance": []
    }
  },
  "cells": [
    {
      "metadata": {
        "id": "fGd-RfZanHuD",
        "colab_type": "text"
      },
      "cell_type": "markdown",
      "source": [
        "# Variables"
      ]
    },
    {
      "metadata": {
        "id": "zvflIRu2VyX-",
        "colab_type": "code",
        "colab": {
          "base_uri": "https://localhost:8080/",
          "height": 136
        },
        "outputId": "c8d60c97-b99b-4875-e3a9-41140edf16ff"
      },
      "cell_type": "code",
      "source": [
        "# Declaring and initializing variables in Python\n",
        "# 1\n",
        "x = 10\n",
        "print(\"1: x is of type {0} with value {1}\".format(type(x), x))\n",
        "\n",
        "# 2\n",
        "y = \"Hello\"\n",
        "print(\"2: y is of type {0} with value {1}\".format(type(y), y))\n",
        "\n",
        "# 3\n",
        "print(\"3: y has length {0}\".format(len(y)))\n",
        "\n",
        "# 4\n",
        "z = str(x)\n",
        "print(\"4: z is of type {0} with value {1}\".format(type(z), z))\n",
        "\n",
        "# 5\n",
        "val = None\n",
        "print(\"5: val is of type {0} with value {1}\".format(type(val), val))\n",
        "\n",
        "# 6\n",
        "a = \"Hi\"\n",
        "b = \"Bye\"\n",
        "print(\"6: a has value {0} and b has value {1}\".format(a, b))\n",
        "\n",
        "# 7\n",
        "a, b = b, a\n",
        "print(\"7: but now a has value {0} and b has value {1}\".format(a, b))\n"
      ],
      "execution_count": 17,
      "outputs": [
        {
          "output_type": "stream",
          "text": [
            "1: x is of type <type 'int'> with value 10\n",
            "2: y is of type <type 'str'> with value Hello\n",
            "3: y has length 5\n",
            "4: z is of type <type 'str'> with value 10\n",
            "5: val is of type <type 'NoneType'> with value None\n",
            "6: a has value Hi and b has value Bye\n",
            "7: but now a has value Bye and b has value Hi\n"
          ],
          "name": "stdout"
        }
      ]
    },
    {
      "metadata": {
        "id": "Y6t2rtZEnR8-",
        "colab_type": "text"
      },
      "cell_type": "markdown",
      "source": [
        "# Logic & Conditionals"
      ]
    },
    {
      "metadata": {
        "id": "6e2rE5vCzdvZ",
        "colab_type": "code",
        "colab": {
          "base_uri": "https://localhost:8080/",
          "height": 102
        },
        "outputId": "e717f5d1-132f-4b5a-d099-cac881a952f5"
      },
      "cell_type": "code",
      "source": [
        "# Basic logic\n",
        "print(\"1: (1 == 2) = {0}\".format(1 == 2))\n",
        "\n",
        "print(\"2: (False and False) = {0}\".format(False and False))\n",
        "\n",
        "print(\"3: ('a' in 'alpha') = {0}\".format('a' in 'alpha'))\n",
        "\n",
        "print(\"4: (('b' not in 'eggs') and (4 != 10)) = {0}\".format(('b' not in 'eggs') and (4 != 10)))\n",
        "\n",
        "\n",
        "# Basic conditionals\n",
        "if (1 == 2):\n",
        "  print(\"5: Math is broken\")\n",
        "  \n",
        "elif (5 > 10 or 66 < 2):\n",
        "  print(\"5: Math is still broken\")\n",
        "  \n",
        "else:\n",
        "  print(\"5: Math probably isn't broken\")\n"
      ],
      "execution_count": 4,
      "outputs": [
        {
          "output_type": "stream",
          "text": [
            "1: (1 == 2) = False\n",
            "2: (False and False) = False\n",
            "3: ('a' in 'alpha') = True\n",
            "4: (('b' not in 'eggs') and (4 != 10)) = True\n",
            "5: Math probably isn't broken\n"
          ],
          "name": "stdout"
        }
      ]
    },
    {
      "metadata": {
        "id": "yIi0eaVynWbD",
        "colab_type": "text"
      },
      "cell_type": "markdown",
      "source": [
        "# Lists"
      ]
    },
    {
      "metadata": {
        "id": "CxAwEIqkdF9A",
        "colab_type": "text"
      },
      "cell_type": "markdown",
      "source": [
        "Python list (and other data structure) operators: https://docs.python.org/3/tutorial/datastructures.html\n",
        "\n",
        "Good post about list slicing on SO: https://stackoverflow.com/questions/509211/understanding-pythons-slice-notation"
      ]
    },
    {
      "metadata": {
        "id": "0sNr6O6D2Ock",
        "colab_type": "code",
        "colab": {
          "base_uri": "https://localhost:8080/",
          "height": 204
        },
        "outputId": "1534f736-920a-4d77-82da-e0b1528b6fb7"
      },
      "cell_type": "code",
      "source": [
        "dogs = [\"Golden Retriever\", \"Maltese\", \"Labradoodle\"]\n",
        "\n",
        "# 1\n",
        "print(\"1: Dogs is a list with items {0}, {1}, and {2}\\n\".format(dogs[0], dogs[1], dogs[2]))\n",
        "\n",
        "# 2\n",
        "print(\"2: The value in the 0th position in dogs is: {0}\\n\".format(dogs[0]))\n",
        "\n",
        "# 3\n",
        "print(\"3: The length of the list dogs is: {0}\\n\".format(len(dogs)))\n",
        "\n",
        "# 4\n",
        "dogs.append(\"Poodle\")\n",
        "dogs.insert(0, \"Shih Tzu\")\n",
        "dogs.remove(\"Labradoodle\")\n",
        "print(\"4: When we change the values in the list dogs we get:\\n{0}\\n\".format(dogs))\n",
        "\n",
        "# 5\n",
        "print(\"5: The first 2 elements in the dogs list are:\\n{0}\".format(dogs[0:2]))"
      ],
      "execution_count": 12,
      "outputs": [
        {
          "output_type": "stream",
          "text": [
            "1: Dogs is a list with items Golden Retriever, Maltese, and Labradoodle\n",
            "\n",
            "2: The value in the 0th position in dogs is: Golden Retriever\n",
            "\n",
            "3: The length of the list dogs is: 3\n",
            "\n",
            "4: When we change the values in the list dogs we get:\n",
            "['Shih Tzu', 'Golden Retriever', 'Maltese', 'Poodle']\n",
            "\n",
            "The first 2 elements in the dogs list are:\n",
            "['Shih Tzu', 'Golden Retriever']\n"
          ],
          "name": "stdout"
        }
      ]
    },
    {
      "metadata": {
        "id": "LOvrbgjMnZMX",
        "colab_type": "text"
      },
      "cell_type": "markdown",
      "source": [
        "# Loops"
      ]
    },
    {
      "metadata": {
        "id": "BeNNarvcj2HR",
        "colab_type": "code",
        "colab": {
          "base_uri": "https://localhost:8080/",
          "height": 221
        },
        "outputId": "f04e8950-5f66-4f3d-a4c6-e662a3f75f11"
      },
      "cell_type": "code",
      "source": [
        "# 1\n",
        "x = 0\n",
        "while x < 2:\n",
        "  x+=1\n",
        "\n",
        "print(\"1: The value of x is: {0}\\n\".format(x))\n",
        "\n",
        "# 2\n",
        "for i in range(0, 5, 2): # i starts with val 0, increments by 2, and the loop end when the value is >=5\n",
        "  print(\"2: i has value: {0}\".format(i))\n",
        "\n",
        "print(\"\")\n",
        "\n",
        "# 3\n",
        "x = 10\n",
        "for i in range(5):\n",
        "  print(\"3: i has value {0}\".format(i))\n",
        "  \n",
        "  if (i > 1 and x == 10):\n",
        "    break\n",
        "    \n",
        "print(\"3: break kills the loop prematurely!\\n\")\n",
        "\n",
        "# 4\n",
        "dogs = [\"Golden Retriever\", \"Maltese\", \"Labradoodle\", \"Good Boy\"]\n",
        "for dog in dogs:\n",
        "  if dog == \"Labradoodle\":\n",
        "    break # Ends the loop here and goes onto the code after the rest of the for loop body\n",
        "    \n",
        "  elif dog == \"Golden Retriever\":\n",
        "    continue # Skips the rest of the for loop code body and goes to the next iteration\n",
        "  \n",
        "  print(\"4: The value of dog is: {0}\".format(dog))\n",
        "  \n",
        "# 5 (Nothing happens here)\n",
        "for i in range(2):\n",
        "  pass # Try removing this and leaving the line empty.\n"
      ],
      "execution_count": 16,
      "outputs": [
        {
          "output_type": "stream",
          "text": [
            "1: The value of x is: 2\n",
            "\n",
            "2: i has value: 0\n",
            "2: i has value: 2\n",
            "2: i has value: 4\n",
            "\n",
            "3: i has value 0\n",
            "3: i has value 1\n",
            "3: i has value 2\n",
            "3: break kills the loop prematurely!\n",
            "\n",
            "4: The value of dog is: Maltese\n"
          ],
          "name": "stdout"
        }
      ]
    },
    {
      "metadata": {
        "id": "2ysj5KUenapz",
        "colab_type": "text"
      },
      "cell_type": "markdown",
      "source": [
        "# Functions"
      ]
    },
    {
      "metadata": {
        "id": "1juSK0rBj2oT",
        "colab_type": "code",
        "colab": {
          "base_uri": "https://localhost:8080/",
          "height": 119
        },
        "outputId": "d7917e41-75ec-43bd-d96f-55bc4c4bfeb7"
      },
      "cell_type": "code",
      "source": [
        "# 1\n",
        "def ILL():\n",
        "  return \"INI\"\n",
        "print(\"1: The return value of ILL() is: {0}\\n\".format(ILL()))\n",
        "\n",
        "# 2\n",
        "def adsa_is_cool(name, major=\"CS\", second_major=None):\n",
        "  bio = \"{name_} is majoring in {major_}\".format(name_=name, major_=major)\n",
        "  if(second_major is not None):\n",
        "    bio += \" and {second_major_}\".format(second_major_=second_major)\n",
        "  return bio\n",
        "\n",
        "print(\"2: {0}\".format(adsa_is_cool(\"Sandy\")))\n",
        "print(\"2: {0}\".format(adsa_is_cool(\"Patrick\", major=\"Electrical Engineering\")))\n",
        "print(\"2: {0}\\n\".format(adsa_is_cool(\"Super Human\", second_major=\"Electrical Engineering\")))"
      ],
      "execution_count": 25,
      "outputs": [
        {
          "output_type": "stream",
          "text": [
            "1: The return value of ILL() is: INI\n",
            "\n",
            "2: Sandy is majoring in CS\n",
            "2: Patrick is majoring in Electrical Engineering\n",
            "2: Super Human is majoring in CS and Electrical Engineering\n",
            "\n"
          ],
          "name": "stdout"
        }
      ]
    }
  ]
}
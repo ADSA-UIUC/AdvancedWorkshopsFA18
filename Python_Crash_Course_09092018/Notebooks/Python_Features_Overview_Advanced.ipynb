{
  "nbformat": 4,
  "nbformat_minor": 0,
  "metadata": {
    "colab": {
      "name": "Python Features Overview Advanced.ipynb",
      "version": "0.3.2",
      "provenance": []
    }
  },
  "cells": [
    {
      "metadata": {
        "id": "W_mGVtmloQ4Q",
        "colab_type": "text"
      },
      "cell_type": "markdown",
      "source": [
        "# List Comprehension"
      ]
    },
    {
      "metadata": {
        "id": "T6lyJu15sTMz",
        "colab_type": "code",
        "colab": {
          "base_uri": "https://localhost:8080/",
          "height": 139
        },
        "outputId": "8b2aa09a-3fe2-4f98-f574-c29af962d426"
      },
      "cell_type": "code",
      "source": [
        "# 1\n",
        "zeroslist1 = []\n",
        "for i in range(4):\n",
        "  zeroslist1.append(0)\n",
        "\n",
        "print(\"1: The values in zeroslist1 are: {0}\".format(zeroslist1))\n",
        "\n",
        "zeroslist2 = [0 for i in range(4)]\n",
        "print(\"1: The values in zeroslist2 are: {0}\\n\".format(zeroslist2))\n",
        "\n",
        "# 2\n",
        "numslist1 = []\n",
        "for x in [1, 2, 3]:\n",
        "  for y in [10, 20, 30]:\n",
        "    if((y - x) % 2 == 1):\n",
        "      numslist1.append(x+y)\n",
        "\n",
        "print(\"2: The values in numslist1 are: {0}\".format(numslist1))\n",
        "\n",
        "numslist2 = [x+y for x in [1, 2, 3] for y in [10, 20, 30] if (y - x) % 2 == 1]\n",
        "print(\"2: The values in numslist2 are: {0}\\n\".format(numslist2))"
      ],
      "execution_count": 1,
      "outputs": [
        {
          "output_type": "stream",
          "text": [
            "1: The values in zeroslist1 are: [0, 0, 0, 0]\n",
            "1: The values in zeroslist2 are: [0, 0, 0, 0]\n",
            "\n",
            "2: The values in numslist1 are: [11, 21, 31, 13, 23, 33]\n",
            "2: The values in numslist2 are: [11, 21, 31, 13, 23, 33]\n",
            "\n"
          ],
          "name": "stdout"
        }
      ]
    },
    {
      "metadata": {
        "id": "1nk6QweSuZBn",
        "colab_type": "code",
        "colab": {
          "base_uri": "https://localhost:8080/",
          "height": 68
        },
        "outputId": "ce14737c-a28b-4081-d90a-94b74caee6f5"
      },
      "cell_type": "code",
      "source": [
        "# INTERACTIVE EXAMPLE: Squares of even numbers\n",
        "nums = [0, 1, 2, 3, 4]\n",
        "print(\"The values in nums are: {0}\".format(nums))\n",
        "\n",
        "even_nums_squared = [] # Write a list comprehension that stores the squares of the even values in nums so nums_squared = [0, 4, 16]\n",
        "print(\"The values in even_nums_squared are: {0}\\n\".format(nums_squared))"
      ],
      "execution_count": 16,
      "outputs": [
        {
          "output_type": "stream",
          "text": [
            "The values in nums are: [0, 1, 2, 3, 4]\n",
            "The values in nums_squared are: []\n",
            "\n"
          ],
          "name": "stdout"
        }
      ]
    },
    {
      "metadata": {
        "id": "kloYanARuz55",
        "colab_type": "code",
        "colab": {
          "base_uri": "https://localhost:8080/",
          "height": 68
        },
        "outputId": "2ec768a7-f789-425f-e2c6-ba678d93f5dd"
      },
      "cell_type": "code",
      "source": [
        "# INTERACTIVE EXAMPLE: Matrix transpose\n",
        "matrix = [[1, 2],[3,4],[5,6],[7,8]]\n",
        "print(\"The values in matrix are: {0}\".format(matrix))\n",
        "\n",
        "# With nested loops\n",
        "transpose1 = []\n",
        "for i in range(2):\n",
        "  transpose1.append([])\n",
        "  \n",
        "  for row in matrix:\n",
        "    transpose1[i].append(row[i])\n",
        "\n",
        "print(\"The values in transpose1 are: {0}\".format(transpose1))\n",
        "\n",
        "transpose2 = [] # Write a list comprehension that transposes the matrix so that transpose2 == transpose1\n",
        "print(\"The values in transpose2 are: {0}\".format(transpose2))\n"
      ],
      "execution_count": 22,
      "outputs": [
        {
          "output_type": "stream",
          "text": [
            "The values in matrix are: [[1, 2], [3, 4], [5, 6], [7, 8]]\n",
            "The values in transpose1 are: [[1, 3, 5, 7], [2, 4, 6, 8]]\n",
            "The values in transpose2 are: []\n"
          ],
          "name": "stdout"
        }
      ]
    },
    {
      "metadata": {
        "id": "ghhSRqS6oU3M",
        "colab_type": "text"
      },
      "cell_type": "markdown",
      "source": [
        "# Tuples"
      ]
    },
    {
      "metadata": {
        "id": "BD3ubaeBsTkA",
        "colab_type": "code",
        "colab": {
          "base_uri": "https://localhost:8080/",
          "height": 102
        },
        "outputId": "2a9fc0a6-d388-438c-b32f-e1ee7bb870f5"
      },
      "cell_type": "code",
      "source": [
        "# 1\n",
        "mytup = (0, \"Good Morning\", [1, 2, 3])\n",
        "print(\"1: mytup has values: {val1} of type {type1}, {val2} of type {type2}, and {val3} of type {type3}\\n\"\\\n",
        "      .format(val1=mytup[0], type1=type(mytup[0]), val2=mytup[1], type2=type(mytup[1]), val3=mytup[2], type3=type(mytup[2])))\n",
        "\n",
        "# 2\n",
        "print(\"2: The length of mytup is: {0}\\n\".format(len(mytup)))\n",
        "\n",
        "# 3\n",
        "def split_name(name):\n",
        "  split_name = name.split(\" \") # Split function returns a list\n",
        "  first_name = split_name[0]\n",
        "  last_name = split_name[1]\n",
        "  return first_name, last_name\n",
        "\n",
        "myname = \"Billy Joe\"\n",
        "first_name, last_name = split_name(myname)\n",
        "print(\"3: My first name is {0} and my last name is {1}\".format(first_name, last_name))\n",
        "  "
      ],
      "execution_count": 29,
      "outputs": [
        {
          "output_type": "stream",
          "text": [
            "1: mytup has values: 0 of type <type 'int'>, Good Morning of type <type 'str'>, and [1, 2, 3] of type <type 'list'>\n",
            "\n",
            "2: The length of mytup is: 3\n",
            "\n",
            "3: My first name is Billy and my last name is Joe\n"
          ],
          "name": "stdout"
        }
      ]
    },
    {
      "metadata": {
        "id": "oY_lSFM1oWi8",
        "colab_type": "text"
      },
      "cell_type": "markdown",
      "source": [
        "# Dictionaries"
      ]
    },
    {
      "metadata": {
        "id": "mYQbu181sT53",
        "colab_type": "code",
        "colab": {
          "base_uri": "https://localhost:8080/",
          "height": 119
        },
        "outputId": "62843c01-dcb0-449a-e0e0-e0221e342c63"
      },
      "cell_type": "code",
      "source": [
        "# 1\n",
        "mydict = {\n",
        "    \"Apples\": [\"red\", \"yellow\", \"green\"], \n",
        "    \"Berries\": [\"raspberry\", \"strawberry\", \"blueberry\", \"blackberry\"]\n",
        "}\n",
        "\n",
        "mydict[\"Grapes\"] = [\"red\", \"green\"] # Add another element to mydict\n",
        "\n",
        "print(\"1: mydict has keys {0} and values {1}\".format(mydict.keys(), mydict.values()))\n",
        "print(\"1: The types of apples are {0}\\n\".format(mydict[\"Apples\"]))\n",
        "\n",
        "# 2\n",
        "for k, v in mydict.items():\n",
        "  if \"red\" in v:\n",
        "    print(\"2: There are red {0}\".format(k))\n",
        "\n",
        "# 3 - String formatting with dictionaries\n",
        "print(\"3: mydict has Apples: {Apples}, Berries: {Berries}, and Grapes: {Grapes}\".format(**mydict))"
      ],
      "execution_count": 36,
      "outputs": [
        {
          "output_type": "stream",
          "text": [
            "1: mydict has keys ['Berries', 'Apples', 'Grapes'] and values [['raspberry', 'strawberry', 'blueberry', 'blackberry'], ['red', 'yellow', 'green'], ['red', 'green']]\n",
            "1: The types of apples are ['red', 'yellow', 'green']\n",
            "\n",
            "2: There are red Apples\n",
            "2: There are red Grapes\n",
            "3: mydict has Apples: ['red', 'yellow', 'green'], Berries: ['raspberry', 'strawberry', 'blueberry', 'blackberry'], and Grapes: ['red', 'green']\n"
          ],
          "name": "stdout"
        }
      ]
    },
    {
      "metadata": {
        "id": "6gpbgArRCJgG",
        "colab_type": "code",
        "colab": {
          "base_uri": "https://localhost:8080/",
          "height": 34
        },
        "outputId": "653f379f-2932-4878-c428-1b6bc61bc9d9"
      },
      "cell_type": "code",
      "source": [
        "# Interactive Example - Write a function that returns a list of the unique values out of the dictionary watch_colors's values\n",
        "watch_colors = {\n",
        "    \"sport\" : [\"black\", \"gray\", \"white\"],\n",
        "    \"classic\" : [\"black\", \"silver\", \"white\"],\n",
        "    \"Fashion\" : [\"rose gold\", \"platinum\", \"black\"]\n",
        "}\n",
        "\n",
        "# Only return the unique values. i.e. unique_colors == [\"black\", \"gray\", \"white\", \"silver\", ...]\n",
        "def unique_colors(mydict):\n",
        "  unique_colors = []\n",
        "  \n",
        "  # Your code here\n",
        "  \n",
        "  return unique_colors\n",
        "\n",
        "print(\"The unique watch colors are: {0}\".format(unique_colors(watch_colors)))"
      ],
      "execution_count": 39,
      "outputs": [
        {
          "output_type": "stream",
          "text": [
            "The unique watch colors are: []\n"
          ],
          "name": "stdout"
        }
      ]
    },
    {
      "metadata": {
        "id": "2m9gVsyIoYkX",
        "colab_type": "text"
      },
      "cell_type": "markdown",
      "source": [
        "# Collections"
      ]
    },
    {
      "metadata": {
        "id": "ffD_hxF7sUV7",
        "colab_type": "code",
        "colab": {
          "base_uri": "https://localhost:8080/",
          "height": 170
        },
        "outputId": "72fb1ffd-6a41-44ea-c21c-af560b7f47d0"
      },
      "cell_type": "code",
      "source": [
        "import collections\n",
        "\n",
        "# 1\n",
        "Point = collections.namedtuple('Point', ['x', 'y'])\n",
        "myPoint = Point(11, 22)\n",
        "\n",
        "print(\"1: the value of the variable myPoint is {0} with type {1}\".format(myPoint, type(myPoint)))\n",
        "print(\"1: the x value of myPoint is {0} and the y value of myPoint is {1}\\n\".format(myPoint.x, myPoint.y))\n",
        "\n",
        "# 2\n",
        "d = {'banana': 3, 'apple': 4, 'pear': 1, 'orange': 2} # Normal dictionary\n",
        "# Don't worry about understanding the lambda syntax below. We will cover that in a later session.\n",
        "new_d = collections.OrderedDict(sorted(d.items(), key=lambda t: t[0])) # OrderedDict sorted by key\n",
        "\n",
        "print(\"2: new_d is an OrderedDict with value: {0}\".format(new_d))\n",
        "\n",
        "new_d.popitem(last=True)\n",
        "print(\"2: We can removed a value from new_d with the popitem() method: {0}\".format(new_d))\n",
        "\n",
        "print(\"2: Using the _asdict() method on a namedtuple() returns an OrderedDict as well: {0}\\n\".format(myPoint._asdict()))\n",
        "\n",
        "# 3\n",
        "cnt = collections.Counter()\n",
        "words = ['red', 'blue', 'red', 'green', 'blue', 'blue']\n",
        "for word in words:\n",
        "  cnt[word] += 1\n",
        "print(\"3: cnt is of type {0} with values {1}\".format(type(cnt), cnt))\n",
        "print(\"3: There were {0} occurences of blue in the words list\".format(cnt['blue']))"
      ],
      "execution_count": 54,
      "outputs": [
        {
          "output_type": "stream",
          "text": [
            "1: the value of the variable myPoint is Point(x=11, y=22) with type <class '__main__.Point'>\n",
            "1: the x value of myPoint is 11 and the y value of myPoint is 22\n",
            "\n",
            "2: new_d is an OrderedDict with value: OrderedDict([('apple', 4), ('banana', 3), ('orange', 2), ('pear', 1)])\n",
            "2: We can removed a value from new_d with the popitem() method: OrderedDict([('apple', 4), ('banana', 3), ('orange', 2)])\n",
            "2: Using the _asdict() method on a namedtuple() returns an OrderedDict as well: OrderedDict([('x', 11), ('y', 22)])\n",
            "\n",
            "3: cnt is of type <class 'collections.Counter'> with values Counter({'blue': 3, 'red': 2, 'green': 1})\n",
            "3: There were 3 occurences of blue in the words list\n"
          ],
          "name": "stdout"
        }
      ]
    }
  ]
}
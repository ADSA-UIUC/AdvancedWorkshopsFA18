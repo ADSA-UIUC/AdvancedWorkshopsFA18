{
  "nbformat": 4,
  "nbformat_minor": 0,
  "metadata": {
    "colab": {
      "name": "Linear Regression/Gradient Descent.ipynb",
      "version": "0.3.2",
      "provenance": [],
      "collapsed_sections": []
    },
    "kernelspec": {
      "name": "python3",
      "display_name": "Python 3"
    }
  },
  "cells": [
    {
      "metadata": {
        "id": "psF2H9weGPQR",
        "colab_type": "code",
        "colab": {}
      },
      "cell_type": "code",
      "source": [
        "import numpy as np\n",
        "import pandas as pd\n",
        "import matplotlib.pyplot as plt\n",
        "plt.rcParams['figure.figsize'] = (20.0, 10.0)\n",
        "from mpl_toolkits.mplot3d import Axes3D"
      ],
      "execution_count": 0,
      "outputs": []
    },
    {
      "metadata": {
        "id": "7psEjlur1O37",
        "colab_type": "code",
        "colab": {}
      },
      "cell_type": "code",
      "source": [
        "\"\"\"cost function to compute the error in our model\n",
        "\n",
        "features - numpy matrix of all X variables\n",
        "targets - numpy matrix of all Y variables\n",
        "coefficients - numpy matrix of the weights of each Xi in X\n",
        "return - the cost (error) in our model as a floating point value\n",
        "\"\"\"\n",
        "def _cost(features, targets, coefficients):\n",
        "  hypothesis = features.dot(coefficients)\n",
        "  loss = hypothesis - targets\n",
        "  num_rows = len(targets)\n",
        "  cost = np.sum(loss ** 2) / (2 * num_rows)\n",
        "  return cost"
      ],
      "execution_count": 0,
      "outputs": []
    },
    {
      "metadata": {
        "id": "eRfCszEx-zit",
        "colab_type": "code",
        "colab": {}
      },
      "cell_type": "code",
      "source": [
        "\"\"\"training model for gradient descent multivariate linear regression\n",
        "\n",
        "features - numpy matrix of all X variables\n",
        "targets - numpy matrix of all Y variables\n",
        "coefficients - numpy matrix of the weights of each Xi in X\n",
        "learning_rate - the gradient descent step size\n",
        "iterations - the number of times the model recalculates its coefficients\n",
        "return - the final coefficients as an array\n",
        "return - an array of costs from each iteration\n",
        "\"\"\"\n",
        "def train(features, targets, coefficients, learning_rate, iterations):\n",
        "  cost_history = [0 for i in range(epochs)] # Initialize list to 0's\n",
        "  num_rows = len(targets)\n",
        "  \n",
        "  for iteration in range(iterations):\n",
        "    hypothesis = features.dot(coefficients) # Compute the predicted target values as a matrix\n",
        "    loss = hypothesis - targets # Compute the difference between hypothesis (predicted) and target (actual) values in the matrices\n",
        "    \n",
        "    gradient = features.T.dot(loss) / num_rows # Compute the new gradient for this iteration as a float\n",
        "    coefficients = coefficients - learning_rate * gradient # Compute the new coefficients as a matrix from the new gradient\n",
        "    \n",
        "    cost = _cost(features, targets, coefficients) # Calculate the cost from this iteration\n",
        "    cost_history[iteration] = cost # Store the cost in the history\n",
        "    \n",
        "  return coefficients, cost_history"
      ],
      "execution_count": 0,
      "outputs": []
    },
    {
      "metadata": {
        "id": "1Z0bNNWUCOY5",
        "colab_type": "code",
        "colab": {}
      },
      "cell_type": "code",
      "source": [
        "\"\"\"Computes the root mean square error and R^2 score of our model\n",
        "\n",
        "targets - the actual values from test data\n",
        "predictions - the estimated values from the model based off the most recent coefficients\n",
        "return - root mean square error as a float - lower is better\n",
        "return - R^2 accuracy score (0.0-1.0) - higher is better\n",
        "\"\"\"\n",
        "def accuracy(targets, predictions):\n",
        "  # Compute root mean square error of model\n",
        "  diff = targets - predictions\n",
        "  num_rows = len(targets)\n",
        "  \n",
        "  rmse = np.sqrt(sum(diff ** 2) / num_rows)\n",
        "  \n",
        "  # Compute R^2 score of model\n",
        "  mean_targets = np.mean(targets)\n",
        "  sq_diff_from_mean = sum((targets - mean_targets) ** 2)\n",
        "  sq_diff_from_pred = sum((targets - predictions) ** 2)\n",
        "  \n",
        "  R2_accuracy = 1 - (sq_diff_from_pred / sq_diff_from_mean)\n",
        "  \n",
        "  return rmse, R2_accuracy"
      ],
      "execution_count": 0,
      "outputs": []
    },
    {
      "metadata": {
        "id": "_827PYmRGUdT",
        "colab_type": "code",
        "colab": {}
      },
      "cell_type": "code",
      "source": [
        "from google.colab import files\n",
        "files.upload()"
      ],
      "execution_count": 0,
      "outputs": []
    },
    {
      "metadata": {
        "id": "f1qC7ee2GeWi",
        "colab_type": "code",
        "colab": {
          "base_uri": "https://localhost:8080/",
          "height": 216
        },
        "outputId": "58c4e6ab-4c61-42c9-bc2c-38cbccdb23da"
      },
      "cell_type": "code",
      "source": [
        "data = pd.read_csv('student.csv') # Get new dataset\n",
        "# https://mubaris.com/2017/09/28/linear-regression-from-scratch/\n",
        "\n",
        "print(data.shape)\n",
        "data.head()"
      ],
      "execution_count": 12,
      "outputs": [
        {
          "output_type": "stream",
          "text": [
            "(1000, 3)\n"
          ],
          "name": "stdout"
        },
        {
          "output_type": "execute_result",
          "data": {
            "text/html": [
              "<div>\n",
              "<style scoped>\n",
              "    .dataframe tbody tr th:only-of-type {\n",
              "        vertical-align: middle;\n",
              "    }\n",
              "\n",
              "    .dataframe tbody tr th {\n",
              "        vertical-align: top;\n",
              "    }\n",
              "\n",
              "    .dataframe thead th {\n",
              "        text-align: right;\n",
              "    }\n",
              "</style>\n",
              "<table border=\"1\" class=\"dataframe\">\n",
              "  <thead>\n",
              "    <tr style=\"text-align: right;\">\n",
              "      <th></th>\n",
              "      <th>Math</th>\n",
              "      <th>Reading</th>\n",
              "      <th>Writing</th>\n",
              "    </tr>\n",
              "  </thead>\n",
              "  <tbody>\n",
              "    <tr>\n",
              "      <th>0</th>\n",
              "      <td>48</td>\n",
              "      <td>68</td>\n",
              "      <td>63</td>\n",
              "    </tr>\n",
              "    <tr>\n",
              "      <th>1</th>\n",
              "      <td>62</td>\n",
              "      <td>81</td>\n",
              "      <td>72</td>\n",
              "    </tr>\n",
              "    <tr>\n",
              "      <th>2</th>\n",
              "      <td>79</td>\n",
              "      <td>80</td>\n",
              "      <td>78</td>\n",
              "    </tr>\n",
              "    <tr>\n",
              "      <th>3</th>\n",
              "      <td>76</td>\n",
              "      <td>83</td>\n",
              "      <td>79</td>\n",
              "    </tr>\n",
              "    <tr>\n",
              "      <th>4</th>\n",
              "      <td>59</td>\n",
              "      <td>64</td>\n",
              "      <td>62</td>\n",
              "    </tr>\n",
              "  </tbody>\n",
              "</table>\n",
              "</div>"
            ],
            "text/plain": [
              "   Math  Reading  Writing\n",
              "0    48       68       63\n",
              "1    62       81       72\n",
              "2    79       80       78\n",
              "3    76       83       79\n",
              "4    59       64       62"
            ]
          },
          "metadata": {
            "tags": []
          },
          "execution_count": 12
        }
      ]
    },
    {
      "metadata": {
        "id": "fO7elCdpG1wX",
        "colab_type": "code",
        "colab": {}
      },
      "cell_type": "code",
      "source": [
        "math = data['Math'].values\n",
        "read = data['Reading'].values\n",
        "write = data['Writing'].values\n",
        "\n",
        "# Ploting the scores as scatter plot\n",
        "fig = plt.figure()\n",
        "ax = Axes3D(fig)\n",
        "ax.scatter(math, read, write, color='#ef1234')\n",
        "plt.show()"
      ],
      "execution_count": 0,
      "outputs": []
    },
    {
      "metadata": {
        "id": "63rbxwo9G831",
        "colab_type": "code",
        "colab": {
          "base_uri": "https://localhost:8080/",
          "height": 35
        },
        "outputId": "fec86578-6971-4771-ef50-aaa519d6a786"
      },
      "cell_type": "code",
      "source": [
        "m = len(math)\n",
        "x0 = np.ones(m)\n",
        "X = np.array([x0, math, read]).T\n",
        "# Initial Coefficients\n",
        "B = np.array([0, 0, 0])\n",
        "Y = np.array(write)\n",
        "alpha = 0.0001\n",
        "\n",
        "inital_cost = _cost(X, Y, B)\n",
        "print(inital_cost)"
      ],
      "execution_count": 17,
      "outputs": [
        {
          "output_type": "stream",
          "text": [
            "2470.11\n"
          ],
          "name": "stdout"
        }
      ]
    },
    {
      "metadata": {
        "id": "akS0yQmkHSDc",
        "colab_type": "code",
        "colab": {
          "base_uri": "https://localhost:8080/",
          "height": 74
        },
        "outputId": "0fe28040-f05b-41dc-bf3a-99b55bbb958c"
      },
      "cell_type": "code",
      "source": [
        "# 100000 Iterations\n",
        "newCoeff, cost_history = gradient_descent(X, Y, B, alpha, 100000)\n",
        "\n",
        "# New Values of B\n",
        "print(newCoeff)\n",
        "\n",
        "# Final Cost of new B\n",
        "print(cost_history[::10000])"
      ],
      "execution_count": 30,
      "outputs": [
        {
          "output_type": "stream",
          "text": [
            "[-0.47889172  0.09137252  0.90144884]\n",
            "[18.076027940915417, 10.495847089517708, 10.492737077485666, 10.48986767223389, 10.487220259164712, 10.484777663803007, 10.48252404038077, 10.480444769041412, 10.478526360996828, 10.47675637102204]\n"
          ],
          "name": "stdout"
        }
      ]
    },
    {
      "metadata": {
        "id": "EkCcq2ojIbTj",
        "colab_type": "code",
        "colab": {
          "base_uri": "https://localhost:8080/",
          "height": 54
        },
        "outputId": "da9b40bf-fffb-43e9-fd5a-ed6c227c01fb"
      },
      "cell_type": "code",
      "source": [
        "Y_pred = X.dot(newCoeff)\n",
        "rmse, R2_score = accuracy(Y, Y_pred)\n",
        "print(rmse)\n",
        "print(R2_score)"
      ],
      "execution_count": 34,
      "outputs": [
        {
          "output_type": "stream",
          "text": [
            "4.577143972727789\n",
            "0.9097223273061553\n"
          ],
          "name": "stdout"
        }
      ]
    }
  ]
}